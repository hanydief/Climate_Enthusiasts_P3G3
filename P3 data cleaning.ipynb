{
 "cells": [
  {
   "attachments": {},
   "cell_type": "markdown",
   "metadata": {},
   "source": [
    "# PyCity Schools Analysis\n",
    "\n",
    "* As a whole, schools with higher budgets, did not yield better test results. By contrast, schools with higher spending 645-675 per student actually underperformed compared to schools with smaller budgets (585 per student).\n",
    "\n",
    "* As a whole, smaller and medium sized schools dramatically out-performed large sized schools on passing math performances (89-91% passing vs 67%).\n",
    "\n",
    "* As a whole, charter schools out-performed the public district schools across all metrics. However, more analysis will be required to glean if the effect is due to school practices or the fact that charter schools tend to serve smaller student populations per school. \n",
    "---"
   ]
  },
  {
   "cell_type": "code",
   "execution_count": 5,
   "metadata": {},
   "outputs": [
    {
     "data": {
      "text/plain": [
       "Index(['Date', 'Location', 'Country', 'Temperature', 'CO2 Emissions',\n",
       "       'Sea Level Rise', 'Precipitation', 'Humidity', 'Wind Speed'],\n",
       "      dtype='object')"
      ]
     },
     "execution_count": 5,
     "metadata": {},
     "output_type": "execute_result"
    }
   ],
   "source": [
    "!conda activate PythonData\n",
    "# Dependencies and Setup\n",
    "import pandas as pd\n",
    "from pathlib import Path\n",
    "\n",
    "# File to Load (Remember to Change These)\n",
    "climate_change_data = Path(\"Resources/climate_change_data.csv\")\n",
    "\n",
    "\n",
    "# Read School and Student Data File and store into Pandas DataFrames\n",
    "climate_change_data_pd = pd.read_csv(climate_change_data)\n",
    "\n",
    "climate_change_data_pd.columns\n",
    "\n",
    "\n"
   ]
  },
  {
   "cell_type": "code",
   "execution_count": 12,
   "metadata": {},
   "outputs": [
    {
     "data": {
      "text/plain": [
       "Index(['Date', 'Location', 'Country', 'Temperature', 'CO2_Emissions',\n",
       "       'Sea_Level_Rise', 'Precipitation', 'Humidity', 'Wind_Speed'],\n",
       "      dtype='object')"
      ]
     },
     "execution_count": 12,
     "metadata": {},
     "output_type": "execute_result"
    }
   ],
   "source": [
    "cleaned_Climate_data_df = climate_change_data_pd.rename(columns={\"CO2 Emissions\":\"CO2_Emissions\", \"Sea Level Rise\":\"Sea_Level_Rise\",\"Wind Speed\":\"Wind_Speed\"})\n",
    "cleaned_Climate_data_df.columns"
   ]
  },
  {
   "cell_type": "code",
   "execution_count": 16,
   "metadata": {},
   "outputs": [
    {
     "data": {
      "text/html": [
       "<div>\n",
       "<style scoped>\n",
       "    .dataframe tbody tr th:only-of-type {\n",
       "        vertical-align: middle;\n",
       "    }\n",
       "\n",
       "    .dataframe tbody tr th {\n",
       "        vertical-align: top;\n",
       "    }\n",
       "\n",
       "    .dataframe thead th {\n",
       "        text-align: right;\n",
       "    }\n",
       "</style>\n",
       "<table border=\"1\" class=\"dataframe\">\n",
       "  <thead>\n",
       "    <tr style=\"text-align: right;\">\n",
       "      <th></th>\n",
       "      <th>Date</th>\n",
       "      <th>Location</th>\n",
       "      <th>Country</th>\n",
       "      <th>Temperature</th>\n",
       "      <th>CO2_Emissions</th>\n",
       "      <th>Sea_Level_Rise</th>\n",
       "      <th>Precipitation</th>\n",
       "      <th>Humidity</th>\n",
       "      <th>Wind_Speed</th>\n",
       "    </tr>\n",
       "  </thead>\n",
       "  <tbody>\n",
       "    <tr>\n",
       "      <th>0</th>\n",
       "      <td>2000-01-01 00:00:00.000000000</td>\n",
       "      <td>New Williamtown</td>\n",
       "      <td>Latvia</td>\n",
       "      <td>10.688986</td>\n",
       "      <td>403.118903</td>\n",
       "      <td>0.717506</td>\n",
       "      <td>13.835237</td>\n",
       "      <td>23.631256</td>\n",
       "      <td>18.492026</td>\n",
       "    </tr>\n",
       "    <tr>\n",
       "      <th>1</th>\n",
       "      <td>2000-01-01 20:09:43.258325832</td>\n",
       "      <td>North Rachel</td>\n",
       "      <td>South Africa</td>\n",
       "      <td>13.814430</td>\n",
       "      <td>396.663499</td>\n",
       "      <td>1.205715</td>\n",
       "      <td>40.974084</td>\n",
       "      <td>43.982946</td>\n",
       "      <td>34.249300</td>\n",
       "    </tr>\n",
       "    <tr>\n",
       "      <th>2</th>\n",
       "      <td>2000-01-02 16:19:26.516651665</td>\n",
       "      <td>West Williamland</td>\n",
       "      <td>French Guiana</td>\n",
       "      <td>27.323718</td>\n",
       "      <td>451.553155</td>\n",
       "      <td>-0.160783</td>\n",
       "      <td>42.697931</td>\n",
       "      <td>96.652600</td>\n",
       "      <td>34.124261</td>\n",
       "    </tr>\n",
       "    <tr>\n",
       "      <th>3</th>\n",
       "      <td>2000-01-03 12:29:09.774977497</td>\n",
       "      <td>South David</td>\n",
       "      <td>Vietnam</td>\n",
       "      <td>12.309581</td>\n",
       "      <td>422.404983</td>\n",
       "      <td>-0.475931</td>\n",
       "      <td>5.193341</td>\n",
       "      <td>47.467938</td>\n",
       "      <td>8.554563</td>\n",
       "    </tr>\n",
       "    <tr>\n",
       "      <th>4</th>\n",
       "      <td>2000-01-04 08:38:53.033303330</td>\n",
       "      <td>New Scottburgh</td>\n",
       "      <td>Moldova</td>\n",
       "      <td>13.210885</td>\n",
       "      <td>410.472999</td>\n",
       "      <td>1.135757</td>\n",
       "      <td>78.695280</td>\n",
       "      <td>61.789672</td>\n",
       "      <td>8.001164</td>\n",
       "    </tr>\n",
       "    <tr>\n",
       "      <th>...</th>\n",
       "      <td>...</td>\n",
       "      <td>...</td>\n",
       "      <td>...</td>\n",
       "      <td>...</td>\n",
       "      <td>...</td>\n",
       "      <td>...</td>\n",
       "      <td>...</td>\n",
       "      <td>...</td>\n",
       "      <td>...</td>\n",
       "    </tr>\n",
       "    <tr>\n",
       "      <th>9995</th>\n",
       "      <td>2022-12-27 15:21:06.966696576</td>\n",
       "      <td>South Elaineberg</td>\n",
       "      <td>Bhutan</td>\n",
       "      <td>15.020523</td>\n",
       "      <td>391.379537</td>\n",
       "      <td>-1.452243</td>\n",
       "      <td>93.417109</td>\n",
       "      <td>25.293814</td>\n",
       "      <td>6.531866</td>\n",
       "    </tr>\n",
       "    <tr>\n",
       "      <th>9996</th>\n",
       "      <td>2022-12-28 11:30:50.225022464</td>\n",
       "      <td>Leblancville</td>\n",
       "      <td>Congo</td>\n",
       "      <td>16.772451</td>\n",
       "      <td>346.921190</td>\n",
       "      <td>0.543616</td>\n",
       "      <td>49.882947</td>\n",
       "      <td>96.787402</td>\n",
       "      <td>42.249014</td>\n",
       "    </tr>\n",
       "    <tr>\n",
       "      <th>9997</th>\n",
       "      <td>2022-12-29 07:40:33.483348224</td>\n",
       "      <td>West Stephanie</td>\n",
       "      <td>Argentina</td>\n",
       "      <td>22.370025</td>\n",
       "      <td>466.042136</td>\n",
       "      <td>1.026704</td>\n",
       "      <td>30.659841</td>\n",
       "      <td>15.211825</td>\n",
       "      <td>18.293708</td>\n",
       "    </tr>\n",
       "    <tr>\n",
       "      <th>9998</th>\n",
       "      <td>2022-12-30 03:50:16.741674112</td>\n",
       "      <td>Port Steven</td>\n",
       "      <td>Albania</td>\n",
       "      <td>19.430853</td>\n",
       "      <td>337.899776</td>\n",
       "      <td>-0.895329</td>\n",
       "      <td>18.932275</td>\n",
       "      <td>82.774520</td>\n",
       "      <td>42.424255</td>\n",
       "    </tr>\n",
       "    <tr>\n",
       "      <th>9999</th>\n",
       "      <td>2022-12-31 00:00:00.000000000</td>\n",
       "      <td>West Anthonyburgh</td>\n",
       "      <td>Sao Tome and Principe</td>\n",
       "      <td>12.661928</td>\n",
       "      <td>381.172746</td>\n",
       "      <td>2.260788</td>\n",
       "      <td>78.339658</td>\n",
       "      <td>99.243923</td>\n",
       "      <td>41.856539</td>\n",
       "    </tr>\n",
       "  </tbody>\n",
       "</table>\n",
       "<p>10000 rows × 9 columns</p>\n",
       "</div>"
      ],
      "text/plain": [
       "                               Date           Location                Country  \\\n",
       "0     2000-01-01 00:00:00.000000000    New Williamtown                 Latvia   \n",
       "1     2000-01-01 20:09:43.258325832       North Rachel           South Africa   \n",
       "2     2000-01-02 16:19:26.516651665   West Williamland          French Guiana   \n",
       "3     2000-01-03 12:29:09.774977497        South David                Vietnam   \n",
       "4     2000-01-04 08:38:53.033303330     New Scottburgh                Moldova   \n",
       "...                             ...                ...                    ...   \n",
       "9995  2022-12-27 15:21:06.966696576   South Elaineberg                 Bhutan   \n",
       "9996  2022-12-28 11:30:50.225022464       Leblancville                  Congo   \n",
       "9997  2022-12-29 07:40:33.483348224     West Stephanie              Argentina   \n",
       "9998  2022-12-30 03:50:16.741674112        Port Steven                Albania   \n",
       "9999  2022-12-31 00:00:00.000000000  West Anthonyburgh  Sao Tome and Principe   \n",
       "\n",
       "      Temperature  CO2_Emissions  Sea_Level_Rise  Precipitation   Humidity  \\\n",
       "0       10.688986     403.118903        0.717506      13.835237  23.631256   \n",
       "1       13.814430     396.663499        1.205715      40.974084  43.982946   \n",
       "2       27.323718     451.553155       -0.160783      42.697931  96.652600   \n",
       "3       12.309581     422.404983       -0.475931       5.193341  47.467938   \n",
       "4       13.210885     410.472999        1.135757      78.695280  61.789672   \n",
       "...           ...            ...             ...            ...        ...   \n",
       "9995    15.020523     391.379537       -1.452243      93.417109  25.293814   \n",
       "9996    16.772451     346.921190        0.543616      49.882947  96.787402   \n",
       "9997    22.370025     466.042136        1.026704      30.659841  15.211825   \n",
       "9998    19.430853     337.899776       -0.895329      18.932275  82.774520   \n",
       "9999    12.661928     381.172746        2.260788      78.339658  99.243923   \n",
       "\n",
       "      Wind_Speed  \n",
       "0      18.492026  \n",
       "1      34.249300  \n",
       "2      34.124261  \n",
       "3       8.554563  \n",
       "4       8.001164  \n",
       "...          ...  \n",
       "9995    6.531866  \n",
       "9996   42.249014  \n",
       "9997   18.293708  \n",
       "9998   42.424255  \n",
       "9999   41.856539  \n",
       "\n",
       "[10000 rows x 9 columns]"
      ]
     },
     "execution_count": 16,
     "metadata": {},
     "output_type": "execute_result"
    }
   ],
   "source": [
    "# cleaned_Climate_data_df['Date'] = pd.to_datetime(cleaned_Climate_data_df['Date'])\n",
    "cleaned_Climate_data_df"
   ]
  },
  {
   "cell_type": "code",
   "execution_count": 14,
   "metadata": {},
   "outputs": [],
   "source": [
    "cleaned_Climate_data_df.to_csv(\"Resources/cleaned_Climate_data.csv\", encoding='utf8', index=False)"
   ]
  },
  {
   "cell_type": "code",
   "execution_count": 3,
   "metadata": {},
   "outputs": [
    {
     "data": {
      "text/plain": [
       "Index(['Dis No', 'Year', 'Seq', 'Disaster Group', 'Disaster Subgroup',\n",
       "       'Disaster Type', 'Disaster Subtype', 'Disaster Subsubtype',\n",
       "       'Event Name', 'Entry Criteria', 'Country', 'ISO', 'Region', 'Continent',\n",
       "       'Location', 'Origin', 'Associated Dis', 'Associated Dis2',\n",
       "       'OFDA Response', 'Appeal', 'Declaration', 'Aid Contribution',\n",
       "       'Dis Mag Value', 'Dis Mag Scale', 'Latitude', 'Longitude', 'Local Time',\n",
       "       'River Basin', 'Start Year', 'Start Month', 'Start Day', 'End Year',\n",
       "       'End Month', 'End Day', 'Total Deaths', 'No Injured', 'No Affected',\n",
       "       'No Homeless', 'Total Affected', 'Reconstruction Costs ('000 US$)',\n",
       "       'Insured Damages ('000 US$)', 'Total Damages ('000 US$)', 'CPI'],\n",
       "      dtype='object')"
      ]
     },
     "execution_count": 3,
     "metadata": {},
     "output_type": "execute_result"
    }
   ],
   "source": [
    "# File to Load (Remember to Change These)\n",
    "Nat_disaster_data = Path(\"Resources/EMDAT_1900-2021_NatDis_WIP.xlsx\")\n",
    "\n",
    "\n",
    "# Read School and Student Data File and store into Pandas DataFrames\n",
    "Nat_disaster_data_pd = pd.read_excel(Nat_disaster_data)\n",
    "\n",
    "Nat_disaster_data_pd.columns\n"
   ]
  },
  {
   "cell_type": "code",
   "execution_count": 4,
   "metadata": {},
   "outputs": [
    {
     "name": "stdout",
     "output_type": "stream",
     "text": [
      "<class 'pandas.core.frame.DataFrame'>\n",
      "RangeIndex: 15827 entries, 0 to 15826\n",
      "Data columns (total 36 columns):\n",
      " #   Column                           Non-Null Count  Dtype  \n",
      "---  ------                           --------------  -----  \n",
      " 0   Dis No                           15827 non-null  object \n",
      " 1   Year                             15827 non-null  int64  \n",
      " 2   Seq                              15827 non-null  int64  \n",
      " 3   Disaster Group                   15827 non-null  object \n",
      " 4   Disaster Type                    15827 non-null  object \n",
      " 5   Event Name                       3803 non-null   object \n",
      " 6   Entry Criteria                   15492 non-null  object \n",
      " 7   Country                          15827 non-null  object \n",
      " 8   ISO                              15827 non-null  object \n",
      " 9   Region                           15827 non-null  object \n",
      " 10  Continent                        15827 non-null  object \n",
      " 11  Location                         14019 non-null  object \n",
      " 12  Origin                           3637 non-null   object \n",
      " 13  Associated Dis                   3213 non-null   object \n",
      " 14  Associated Dis2                  682 non-null    object \n",
      " 15  OFDA Response                    1607 non-null   object \n",
      " 16  Appeal                           2568 non-null   object \n",
      " 17  Declaration                      3215 non-null   object \n",
      " 18  Aid Contribution                 677 non-null    float64\n",
      " 19  Dis Mag Value                    4901 non-null   float64\n",
      " 20  Dis Mag Scale                    14656 non-null  object \n",
      " 21  Latitude                         2716 non-null   object \n",
      " 22  Longitude                        2719 non-null   object \n",
      " 23  Local Time                       1092 non-null   object \n",
      " 24  River Basin                      1257 non-null   object \n",
      " 25  Start Year                       15827 non-null  int64  \n",
      " 26  Start Month                      15443 non-null  float64\n",
      " 27  Start Day                        12227 non-null  float64\n",
      " 28  End Year                         15827 non-null  int64  \n",
      " 29  End Month                        15119 non-null  float64\n",
      " 30  End Day                          12295 non-null  float64\n",
      " 31  Total Deaths                     11236 non-null  float64\n",
      " 32  Reconstruction Costs ('000 US$)  31 non-null     float64\n",
      " 33  Insured Damages ('000 US$)       1092 non-null   float64\n",
      " 34  Total Damages ('000 US$)         5166 non-null   float64\n",
      " 35  CPI                              15403 non-null  float64\n",
      "dtypes: float64(11), int64(4), object(21)\n",
      "memory usage: 4.3+ MB\n"
     ]
    }
   ],
   "source": [
    "col_todrop = ['Disaster Subsubtype','Disaster Subgroup', 'Disaster Subtype', 'Disaster Subsubtype',  'No Injured', 'No Affected', \\\n",
    "              'No Homeless', 'Total Affected']\n",
    "cleaned_Nat_disaster_data_pd = Nat_disaster_data_pd.drop(labels=col_todrop, axis=1)\n",
    "cleaned_Nat_disaster_data_pd.info()"
   ]
  },
  {
   "attachments": {},
   "cell_type": "markdown",
   "metadata": {},
   "source": [
    "## Clean up"
   ]
  },
  {
   "cell_type": "code",
   "execution_count": 33,
   "metadata": {},
   "outputs": [],
   "source": []
  },
  {
   "cell_type": "code",
   "execution_count": null,
   "metadata": {},
   "outputs": [],
   "source": []
  },
  {
   "cell_type": "code",
   "execution_count": null,
   "metadata": {},
   "outputs": [],
   "source": []
  }
 ],
 "metadata": {
  "anaconda-cloud": {},
  "kernel_info": {
   "name": "python3"
  },
  "kernelspec": {
   "display_name": "PythonData",
   "language": "python",
   "name": "python3"
  },
  "language_info": {
   "codemirror_mode": {
    "name": "ipython",
    "version": 3
   },
   "file_extension": ".py",
   "mimetype": "text/x-python",
   "name": "python",
   "nbconvert_exporter": "python",
   "pygments_lexer": "ipython3",
   "version": "3.7.7"
  },
  "latex_envs": {
   "LaTeX_envs_menu_present": true,
   "autoclose": false,
   "autocomplete": true,
   "bibliofile": "biblio.bib",
   "cite_by": "apalike",
   "current_citInitial": 1,
   "eqLabelWithNumbers": true,
   "eqNumInitial": 1,
   "hotkeys": {
    "equation": "Ctrl-E",
    "itemize": "Ctrl-I"
   },
   "labels_anchors": false,
   "latex_user_defs": false,
   "report_style_numbering": false,
   "user_envs_cfg": false
  },
  "nteract": {
   "version": "0.8.4"
  },
  "vscode": {
   "interpreter": {
    "hash": "5384d77d82de63fd599f73e77f9ec786e7719288bf80a29ec0288c670ac3cf32"
   }
  }
 },
 "nbformat": 4,
 "nbformat_minor": 4
}
